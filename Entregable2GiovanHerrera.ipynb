{
  "nbformat": 4,
  "nbformat_minor": 0,
  "metadata": {
    "colab": {
      "provenance": [],
      "include_colab_link": true
    },
    "kernelspec": {
      "name": "python3",
      "display_name": "Python 3"
    },
    "language_info": {
      "name": "python"
    }
  },
  "cells": [
    {
      "cell_type": "markdown",
      "metadata": {
        "id": "view-in-github",
        "colab_type": "text"
      },
      "source": [
        "<a href=\"https://colab.research.google.com/github/ingridescalante/GoogleColab/blob/main/Entregable2GiovanHerrera.ipynb\" target=\"_parent\"><img src=\"https://colab.research.google.com/assets/colab-badge.svg\" alt=\"Open In Colab\"/></a>"
      ]
    },
    {
      "cell_type": "markdown",
      "source": [
        "# Actividad 1, 2 y 3"
      ],
      "metadata": {
        "id": "XsjBGqnXOJMY"
      }
    },
    {
      "cell_type": "code",
      "execution_count": null,
      "metadata": {
        "id": "kdC5ESG2Ovro"
      },
      "outputs": [],
      "source": [
        "# Lista para almacenar las notas y nombres\n",
        "estudiantes = []\n",
        "\n",
        "# Menú interactivo\n",
        "while True:\n",
        "    print(\"\\nMenú:\")\n",
        "    print(\"1. Agregar estudiante y nota\")\n",
        "    print(\"2. Modificar nota de un estudiante\")\n",
        "    print(\"3. Mostrar notas y promedio\")\n",
        "    print(\"4. Salir\")\n",
        "\n",
        "    try:\n",
        "        opcion = int(input(\"Selecciona una opción: \"))\n",
        "    except ValueError:\n",
        "        print(\"Por favor, ingresa un número válido.\")\n",
        "        continue\n",
        "\n",
        "    if opcion == 1:  # Agregar estudiante y nota\n",
        "        nombre = input(\"Nombre del estudiante: \").strip()\n",
        "        try:\n",
        "            nota = float(input(\"Nota del estudiante: \"))\n",
        "            if 0 <= nota <= 10:  # Validar rango de nota\n",
        "                estudiantes.append({\"nombre\": nombre, \"nota\": nota})\n",
        "                print(f\"Estudiante {nombre} agregado con nota {nota}.\")\n",
        "            else:\n",
        "                print(\"La nota debe estar entre 0 y 10.\")\n",
        "        except ValueError:\n",
        "            print(\"Por favor, ingresa un número válido para la nota.\")\n",
        "\n",
        "    elif opcion == 2:  # Modificar nota\n",
        "        nombre = input(\"Nombre del estudiante a modificar: \").strip()\n",
        "        intentos = 3\n",
        "        for estudiante in estudiantes:\n",
        "            if estudiante[\"nombre\"] == nombre:\n",
        "                while intentos > 0:\n",
        "                    try:\n",
        "                        nueva_nota = float(input(f\"Nueva nota para {nombre} (intentos restantes {intentos}): \"))\n",
        "                        if 0 <= nueva_nota <= 10:\n",
        "                            estudiante[\"nota\"] = nueva_nota\n",
        "                            print(f\"Nota de {nombre} actualizada a {nueva_nota}.\")\n",
        "                            break\n",
        "                        else:\n",
        "                            print(\"La nota debe estar entre 0 y 10.\")\n",
        "                    except ValueError:\n",
        "                        print(\"Por favor, ingresa un número válido.\")\n",
        "                    intentos -= 1\n",
        "                else:\n",
        "                    print(f\"No se pudo actualizar la nota de {nombre} tras varios intentos.\")\n",
        "                break\n",
        "        else:\n",
        "            print(f\"Estudiante {nombre} no encontrado.\")\n",
        "\n",
        "    elif opcion == 3:  # Mostrar notas y promedio\n",
        "        if estudiantes:\n",
        "            print(\"\\nNotas de los estudiantes:\")\n",
        "            for estudiante in estudiantes:\n",
        "                print(f\"{estudiante['nombre']}: {estudiante['nota']}\")\n",
        "            try:\n",
        "                promedio = sum(e[\"nota\"] for e in estudiantes) / len(estudiantes)\n",
        "                print(f\"Promedio de notas: {promedio:.2f}\")\n",
        "            except ZeroDivisionError:\n",
        "                print(\"No hay estudiantes para calcular el promedio.\")\n",
        "        else:\n",
        "            print(\"No hay estudiantes registrados.\")\n",
        "\n",
        "    elif opcion == 4:  # Salir\n",
        "        print(\"Saliendo del sistema...\")\n",
        "        break\n",
        "\n",
        "    else:\n",
        "        print(\"Opción no válida. Intenta de nuevo.\")\n"
      ]
    }
  ]
}