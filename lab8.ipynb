{
  "nbformat": 4,
  "nbformat_minor": 0,
  "metadata": {
    "colab": {
      "provenance": [],
      "include_colab_link": true
    },
    "kernelspec": {
      "name": "python3",
      "display_name": "Python 3"
    },
    "language_info": {
      "name": "python"
    }
  },
  "cells": [
    {
      "cell_type": "markdown",
      "metadata": {
        "id": "view-in-github",
        "colab_type": "text"
      },
      "source": [
        "<a href=\"https://colab.research.google.com/github/ingridescalante/GoogleColab/blob/main/lab8.ipynb\" target=\"_parent\"><img src=\"https://colab.research.google.com/assets/colab-badge.svg\" alt=\"Open In Colab\"/></a>"
      ]
    },
    {
      "cell_type": "markdown",
      "source": [
        "# **Laboratorio 8**\n",
        "> ## Actividad 1\n",
        "Juego de adivinar el numero"
      ],
      "metadata": {
        "id": "pWUu3j5BTToh"
      }
    },
    {
      "cell_type": "code",
      "execution_count": null,
      "metadata": {
        "id": "XXk9jvy_SlZG"
      },
      "outputs": [],
      "source": [
        "# Importar random\n",
        "import random"
      ]
    },
    {
      "cell_type": "code",
      "source": [
        "def generar_numero():\n",
        "  return random.randint(1, 100)"
      ],
      "metadata": {
        "id": "q9DaOcT7U5MB"
      },
      "execution_count": null,
      "outputs": []
    },
    {
      "cell_type": "code",
      "source": [
        "def juego_adivinar():\n",
        "  numero_secreto = generar_numero()\n",
        "  intentos = 0\n",
        "\n",
        "  print(\"Bienvenido al juego adivinar numero\")\n",
        "  print(\"Estoy pensando en un numero entre 1 y 100\")\n",
        "\n",
        "  while True:\n",
        "    try:\n",
        "      intento = int(input(\"Adivina el numero: \"))\n",
        "      intentos+=1\n",
        "      if intento < numero_secreto:\n",
        "        print(\"Demasiado bajo. Intenta de nuevo\")\n",
        "      elif intento > numero_secreto:\n",
        "        print(\"Demasiado Alto. Intenta de nuevo\")\n",
        "      else:\n",
        "        print(f\"Correcto adivinaste en {intentos} intentos.\")\n",
        "        break\n",
        "    except ValueError:\n",
        "      print(\"Por favor ingresa un numero valido.\")"
      ],
      "metadata": {
        "id": "FUJKK3HOWuC5"
      },
      "execution_count": null,
      "outputs": []
    },
    {
      "cell_type": "code",
      "source": [
        "juego_adivinar()"
      ],
      "metadata": {
        "id": "otgWLWE2YYdL",
        "colab": {
          "base_uri": "https://localhost:8080/"
        },
        "outputId": "575919fb-636c-48c1-f89b-214cb69aded1"
      },
      "execution_count": null,
      "outputs": [
        {
          "output_type": "stream",
          "name": "stdout",
          "text": [
            "Bienvenido al juego adivinar numero\n",
            "Estoy pensando en un numero entre 1 y 100\n",
            "Adivina el numero: 50\n",
            "Demasiado bajo. Intenta de nuevo\n",
            "Adivina el numero: 75\n",
            "Demasiado bajo. Intenta de nuevo\n",
            "Adivina el numero: 85\n",
            "Demasiado bajo. Intenta de nuevo\n",
            "Adivina el numero: 90\n",
            "Demasiado Alto. Intenta de nuevo\n",
            "Adivina el numero: 89\n",
            "Demasiado Alto. Intenta de nuevo\n",
            "Adivina el numero: 88\n",
            "Correcto adivinaste en 6 intentos.\n"
          ]
        }
      ]
    },
    {
      "cell_type": "markdown",
      "source": [
        "> ## Actividad 2\n",
        "Calculadora de operaciones básicas"
      ],
      "metadata": {
        "id": "PsajnjpXaOIp"
      }
    },
    {
      "cell_type": "code",
      "source": [
        "# Suma\n",
        "def suma(a, b):\n",
        "  return a + b\n",
        "\n",
        "# Resta\n",
        "def resta(a, b):\n",
        "  return a - b\n",
        "\n",
        "# Multiplicacion\n",
        "def Multiplicacion(a, b):\n",
        "  return a * b\n",
        "\n",
        "# Division\n",
        "def division(a, b):\n",
        "  return a / b\n"
      ],
      "metadata": {
        "id": "8wvY9XQtaT5w"
      },
      "execution_count": null,
      "outputs": []
    },
    {
      "cell_type": "code",
      "source": [
        "while True:\n",
        "  print(\"\\nCalculadora simple\")\n",
        "  print(\"1. Suma\")\n",
        "  print(\"2. Resta\")\n",
        "  print(\"3. Multiplicacion\")\n",
        "  print(\"4. Division\")\n",
        "  print(\"5. Salir\")\n",
        "\n",
        "  opcion = input(\"Elige una opcion (1-5): \")\n",
        "\n",
        "  if opcion == '5':\n",
        "    print(\"Hasta luego\")\n",
        "    break\n",
        "\n",
        "  try:\n",
        "    num1 = float(input(\"Ingresa el primer numero: \"))\n",
        "    num2 = float(input(\"Ingresa el segundo numero\"))\n",
        "\n",
        "    if opcion == '1':\n",
        "      print(\"Resultado\", suma(num1, num2))\n",
        "    elif opcion == '2':\n",
        "      print(\"Resultado\", resta(num1, num2))\n",
        "    elif opcion == '3':\n",
        "      print(\"Resultado\", Multiplicacion(num1, num2))\n",
        "    elif opcion == '4':\n",
        "      if num2 == 0:\n",
        "        print(\"Error, no se puede dividir entre cero\")\n",
        "      else:\n",
        "        print(\"Resultado\", division(num1, num2))\n",
        "  except ValueError:\n",
        "    print(\"Error: Ingresa solo numeros.\")"
      ],
      "metadata": {
        "id": "eUJ4d7xgbDas",
        "colab": {
          "base_uri": "https://localhost:8080/"
        },
        "outputId": "79d2faef-c1e9-442b-b782-030ffca14772"
      },
      "execution_count": null,
      "outputs": [
        {
          "output_type": "stream",
          "name": "stdout",
          "text": [
            "\n",
            "Calculadora simple\n",
            "1. Suma\n",
            "2. Resta\n",
            "3. Multiplicacion\n",
            "4. Division\n",
            "5. Salir\n",
            "Elige una opcion (1-5): 1\n",
            "Ingresa el primer numero: 5\n",
            "Ingresa el segundo numero10\n",
            "Resultado 15.0\n",
            "\n",
            "Calculadora simple\n",
            "1. Suma\n",
            "2. Resta\n",
            "3. Multiplicacion\n",
            "4. Division\n",
            "5. Salir\n",
            "Elige una opcion (1-5): 4\n",
            "Ingresa el primer numero: 15\n",
            "Ingresa el segundo numero0\n",
            "Error, no se puede dividir entre cero\n",
            "\n",
            "Calculadora simple\n",
            "1. Suma\n",
            "2. Resta\n",
            "3. Multiplicacion\n",
            "4. Division\n",
            "5. Salir\n",
            "Elige una opcion (1-5): 5\n",
            "Hasta luego\n"
          ]
        }
      ]
    },
    {
      "cell_type": "markdown",
      "source": [
        "> ## Actividad 3\n",
        "Lista de Tareas"
      ],
      "metadata": {
        "id": "_BZmEEicfLmQ"
      }
    },
    {
      "cell_type": "code",
      "source": [
        "tareas = []"
      ],
      "metadata": {
        "id": "rS1X171DfXLn"
      },
      "execution_count": null,
      "outputs": []
    },
    {
      "cell_type": "code",
      "source": [
        "def agregar_tareas(tarea):\n",
        "  tareas.append(tarea)\n",
        "  print(f\"Tarea {tarea} agregada.\")\n",
        "\n",
        "def eliminar_tareas(indice):\n",
        "  try:\n",
        "    tarea = tareas.pop(indice)\n",
        "    print(f\"Tarea {tarea} eliminada.\")\n",
        "  except IndexError:\n",
        "    print(\"Error: indice de tarea no valido.\")\n",
        "\n",
        "def mostrar_tareas():\n",
        "  if not tareas:\n",
        "    print(\"No hay tareas pendientes\")\n",
        "  else:\n",
        "    print(\"Tareas pendientes: \")\n",
        "    for i, tarea in enumerate(tareas):\n",
        "      print(f\"{i + 1}. {tarea}\")\n"
      ],
      "metadata": {
        "id": "8scgkY-sfvfQ"
      },
      "execution_count": null,
      "outputs": []
    },
    {
      "cell_type": "code",
      "source": [
        "while True:\n",
        "  print(\"\\nGestor de tareas\")\n",
        "  print(\"1. Agregar tarea\")\n",
        "  print(\"2. Eliminar tarea\")\n",
        "  print(\"3. Mostrar tareas\")\n",
        "  print(\"4. Salir\")\n",
        "\n",
        "  opcion = input(\"Elige una opcion (1-4): \")\n",
        "\n",
        "  if opcion == '1':\n",
        "    tarea = input(\"Ingresa la nueva tarea: \")\n",
        "    agregar_tareas(tarea)\n",
        "  elif opcion == '2':\n",
        "    mostrar_tareas()\n",
        "    if tareas:\n",
        "      indice = int(input(\"Ingresa el numero de la tarea a eliminar: \")) - 1\n",
        "      eliminar_tareas(indice)\n",
        "  elif opcion == '3':\n",
        "    mostrar_tareas()\n",
        "  elif opcion == '4':\n",
        "    print(\"Hasta luego\")\n",
        "    break\n",
        "  else:\n",
        "    print(\"Opcion no valida\")\n"
      ],
      "metadata": {
        "id": "RJemnkNliGLx",
        "colab": {
          "base_uri": "https://localhost:8080/"
        },
        "outputId": "90d6b4bf-59fb-4c0a-8c51-e372b9b28cb1"
      },
      "execution_count": null,
      "outputs": [
        {
          "output_type": "stream",
          "name": "stdout",
          "text": [
            "\n",
            "Gestor de tareas\n",
            "1. Agregar tarea\n",
            "2. Eliminar tarea\n",
            "3. Mostrar tareas\n",
            "4. Salir\n",
            "Elige una opcion (1-4): 1\n",
            "Ingresa la nueva tarea: pasear la mascota\n",
            "Tarea pasear la mascota agregada.\n",
            "\n",
            "Gestor de tareas\n",
            "1. Agregar tarea\n",
            "2. Eliminar tarea\n",
            "3. Mostrar tareas\n",
            "4. Salir\n",
            "Elige una opcion (1-4): 3\n",
            "Tareas pendientes: \n",
            "1. pasear la mascota\n",
            "\n",
            "Gestor de tareas\n",
            "1. Agregar tarea\n",
            "2. Eliminar tarea\n",
            "3. Mostrar tareas\n",
            "4. Salir\n",
            "Elige una opcion (1-4): 2\n",
            "Tareas pendientes: \n",
            "1. pasear la mascota\n",
            "Ingresa el numero de la tarea a eliminar: 1\n",
            "Tarea pasear la mascota eliminada.\n",
            "\n",
            "Gestor de tareas\n",
            "1. Agregar tarea\n",
            "2. Eliminar tarea\n",
            "3. Mostrar tareas\n",
            "4. Salir\n"
          ]
        }
      ]
    }
  ]
}